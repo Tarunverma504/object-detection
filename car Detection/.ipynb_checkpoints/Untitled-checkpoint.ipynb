{
 "cells": [
  {
   "cell_type": "code",
   "execution_count": null,
   "metadata": {},
   "outputs": [],
   "source": [
    "import numpy as np\n",
    "import cv2\n",
    "car_classifier=cv2.CascadeClassifier('C:\\\\Users\\TARUN VERMA\\Desktop\\Object Detction\\CAR-DETECTION-master\\cas4.xml')\n",
    "cap=cv2.VideoCapture('C:\\\\Users\\TARUN VERMA\\Desktop\\Object Detction\\Traffic Jam - 279(1).mp4')\n",
    "while cap.isOpened():\n",
    "    ret,frame=cap.read()\n",
    "    cars=car_classifier.detectMultiScale(frame,1.4,6)\n",
    "    for(x,y,w,h) in cars:\n",
    "        cv2.rectangle(frame,(x,y),(x+w,y+h),(0,255,255),2)\n",
    "        cv2.imshow('Cars',frame)\n",
    "    if cv2.waitKey(1) & 0xFF==27:\n",
    "        break\n",
    "cap.release()\n",
    "cv2.destroyWindows()\n",
    "        "
   ]
  },
  {
   "cell_type": "code",
   "execution_count": null,
   "metadata": {},
   "outputs": [],
   "source": []
  }
 ],
 "metadata": {
  "kernelspec": {
   "display_name": "Python 3",
   "language": "python",
   "name": "python3"
  },
  "language_info": {
   "codemirror_mode": {
    "name": "ipython",
    "version": 3
   },
   "file_extension": ".py",
   "mimetype": "text/x-python",
   "name": "python",
   "nbconvert_exporter": "python",
   "pygments_lexer": "ipython3",
   "version": "3.8.2"
  }
 },
 "nbformat": 4,
 "nbformat_minor": 4
}
